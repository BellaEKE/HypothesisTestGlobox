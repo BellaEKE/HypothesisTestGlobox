{
  "cells": [
    {
      "cell_type": "markdown",
      "metadata": {
        "id": "view-in-github",
        "colab_type": "text"
      },
      "source": [
        "<a href=\"https://colab.research.google.com/github/BellaEKE/HypothesisTestGlobox/blob/main/HYPOTHESIS_TEST_GLOBOX.ipynb\" target=\"_parent\"><img src=\"https://colab.research.google.com/assets/colab-badge.svg\" alt=\"Open In Colab\"/></a>"
      ]
    },
    {
      "cell_type": "markdown",
      "id": "1cddd5e0",
      "metadata": {
        "id": "1cddd5e0"
      },
      "source": [
        "# Hypothesis test 1:is there a difference in average amount spent between the groups"
      ]
    },
    {
      "cell_type": "code",
      "execution_count": null,
      "id": "94ef7b08",
      "metadata": {
        "id": "94ef7b08",
        "outputId": "b5c8a2a5-364c-416e-ecb1-def0fced2230"
      },
      "outputs": [
        {
          "name": "stdout",
          "output_type": "stream",
          "text": [
            "Average Amount Spent:\n",
            "t-statistic: -0.0689\n",
            "p-value: 0.9451\n",
            "The results are not statistically significant at the alpha = 0.05 level.\n"
          ]
        }
      ],
      "source": [
        "import scipy.stats as stats\n",
        "\n",
        "# Set up the data\n",
        "control_mean_spend = 3.375\n",
        "treatment_mean_spend = 3.391\n",
        "control_std = 25.94\n",
        "treatment_std = 25.414\n",
        "control_sample_size = 24343\n",
        "treatment_sample_size = 24600\n",
        "\n",
        "# Calculate the Welch's t-test for average amount spent\n",
        "t_statistic_spend, p_value_spend = stats.ttest_ind_from_stats(\n",
        "    control_mean_spend, control_std, control_sample_size,\n",
        "    treatment_mean_spend, treatment_std, treatment_sample_size,\n",
        "    equal_var=False)\n",
        "\n",
        "\n",
        "\n",
        "# Print the results\n",
        "print(\"Average Amount Spent:\")\n",
        "print(\"t-statistic: {:.4f}\".format(t_statistic_spend))\n",
        "print(\"p-value: {:.4f}\".format(p_value_spend))\n",
        "\n",
        "\n",
        "# Interpret the results\n",
        "if p_value_spend < 0.05:\n",
        "    print(\"The results are statistically significant at the alpha = 0.05 level.\")\n",
        "    if t_statistic_spend > 0:\n",
        "        print(\"The treatment group spent significantly more than the control group.\")\n",
        "    else:\n",
        "        print(\"The control group spent significantly more than the treatment group.\")\n",
        "else:\n",
        "    print(\"The results are not statistically significant at the alpha = 0.05 level.\")\n"
      ]
    },
    {
      "cell_type": "markdown",
      "id": "352cca74",
      "metadata": {
        "id": "352cca74"
      },
      "source": [
        "# Hypothesis test 2: Is there a difference in the average conversion between the groups?"
      ]
    },
    {
      "cell_type": "code",
      "execution_count": null,
      "id": "68c7fe2e",
      "metadata": {
        "id": "68c7fe2e",
        "outputId": "1d279ef1-9552-4aad-85dc-49b56bb94e40"
      },
      "outputs": [
        {
          "name": "stdout",
          "output_type": "stream",
          "text": [
            "Conversion Rate:\n",
            "z-score: 3.8815\n",
            "p-value: 0.0001\n",
            "The results are statistically significant at the alpha = 0.05 level.\n",
            "The treatment group has a significantly higher conversion rate than the control group.\n"
          ]
        }
      ],
      "source": [
        "import numpy as np\n",
        "import statsmodels.api as sm\n",
        "\n",
        "# Set up the data\n",
        "control_conversions = 0.0392 * 24343\n",
        "control_sample_size = 24343\n",
        "control_cr = control_conversions / control_sample_size\n",
        "treatment_conversions = 0.0463 * 24600\n",
        "treatment_sample_size = 24600\n",
        "treatment_cr = treatment_conversions / treatment_sample_size\n",
        "alpha = 0.05\n",
        "\n",
        "# Calculate the pooled proportion\n",
        "p_pool = (control_conversions + treatment_conversions) / (control_sample_size + treatment_sample_size)\n",
        "\n",
        "# Calculate the standard error for the difference in proportions\n",
        "se = np.sqrt(p_pool * (1 - p_pool) * ((1 / control_sample_size) + (1 / treatment_sample_size)))\n",
        "\n",
        "# Calculate the z-score and p-value\n",
        "z_score = (treatment_cr - control_cr) / se\n",
        "p_value = 2 * (1 - stats.norm.cdf(abs(z_score)))\n",
        "\n",
        "# Print the results\n",
        "print(\"Conversion Rate:\")\n",
        "print(\"z-score: {:.4f}\".format(z_score))\n",
        "print(\"p-value: {:.4f}\".format(p_value))\n",
        "\n",
        "# Interpret the results\n",
        "if p_value < alpha:\n",
        "    print(\"The results are statistically significant at the alpha = 0.05 level.\")\n",
        "    if z_score > 0:\n",
        "        print(\"The treatment group has a significantly higher conversion rate than the control group.\")\n",
        "    else:\n",
        "        print(\"The control group has a significantly higher conversion rate than the treatment group.\")\n",
        "else:\n",
        "    print(\"The results are not statistically significant at the alpha = 0.05 level.\")\n"
      ]
    },
    {
      "cell_type": "code",
      "execution_count": null,
      "id": "7c3f1fb3",
      "metadata": {
        "id": "7c3f1fb3"
      },
      "outputs": [],
      "source": []
    }
  ],
  "metadata": {
    "kernelspec": {
      "display_name": "Python 3 (ipykernel)",
      "language": "python",
      "name": "python3"
    },
    "language_info": {
      "codemirror_mode": {
        "name": "ipython",
        "version": 3
      },
      "file_extension": ".py",
      "mimetype": "text/x-python",
      "name": "python",
      "nbconvert_exporter": "python",
      "pygments_lexer": "ipython3",
      "version": "3.9.13"
    },
    "colab": {
      "provenance": [],
      "include_colab_link": true
    }
  },
  "nbformat": 4,
  "nbformat_minor": 5
}